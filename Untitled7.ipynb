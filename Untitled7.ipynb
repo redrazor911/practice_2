{
 "cells": [
  {
   "cell_type": "code",
   "execution_count": 122,
   "id": "87cffd8e-e558-4583-9c54-d492dbb6a368",
   "metadata": {},
   "outputs": [
    {
     "data": {
      "text/html": [
       "\n",
       "        <iframe\n",
       "            width=\"100%\"\n",
       "            height=\"650\"\n",
       "            src=\"http://127.0.0.1:8050/\"\n",
       "            frameborder=\"0\"\n",
       "            allowfullscreen\n",
       "            \n",
       "        ></iframe>\n",
       "        "
      ],
      "text/plain": [
       "<IPython.lib.display.IFrame at 0x163b5203a30>"
      ]
     },
     "metadata": {},
     "output_type": "display_data"
    }
   ],
   "source": [
    "import dash\n",
    "from dash import dcc, html\n",
    "import pandas as pd\n",
    "import plotly.express as px\n",
    "\n",
    "\n",
    "df = pd.read_csv('https://raw.githubusercontent.com/yupest/nti/master/%D0%9D%D0%A2%D0%98-2021/movies_emotions.csv')\n",
    "app = dash.Dash(__name__)\n",
    "\n",
    "bar_chart = dcc.Graph(id='bar-chart')\n",
    "@app.callback(\n",
    "dash.dependencies.Output('bar-chart', 'figure'),\n",
    "[dash.dependencies.Input('genres-dropdown', 'value'),\n",
    "dash.dependencies.Input('emotions-dropdown', 'value')]\n",
    ")\n",
    "def update_bar_chart(selected_genres, selected_emotions):\n",
    " filtered_df = df\n",
    " if 'all_values' not in selected_genres:\n",
    "  filtered_df = filtered_df[filtered_df.genres==selected_genres]\n",
    " if 'all_values' not in selected_emotions:\n",
    "  filtered_df = filtered_df[filtered_df.emotion==selected_emotions]\n",
    " top_10_films = filtered_df.sort_values('rating', ascending=False).head(10)           \n",
    " fig = px.bar(top_10_films, x='title', y='rating')\n",
    " return fig\n",
    "\n",
    "pie_chart = dcc.Graph(id='pie-chart')\n",
    "@app.callback(\n",
    "dash.dependencies.Output('pie-chart', 'figure'),\n",
    "dash.dependencies.Input('genres-dropdown', 'value'),\n",
    "dash.dependencies.Input('emotions-dropdown', 'value')\n",
    ")\n",
    "def update_pie_chart(selected_genres, selected_emotions):\n",
    " filtered_df = df\n",
    " if 'all_values' not in selected_genres:\n",
    "  filtered_df = filtered_df[filtered_df.genres==selected_genres]\n",
    " if 'all_values' not in selected_emotions:\n",
    "  filtered_df = filtered_df[filtered_df.emotion==selected_emotions]\n",
    " labels = ['Подходят', 'Не подходят']\n",
    " values = [len(filtered_df), len(df) - len(filtered_df)]\n",
    " fig = px.pie(names=labels, values=values, hole=0.5)\n",
    " return fig\n",
    "\n",
    "line_chart = dcc.Graph(id='line-chart')\n",
    "@app.callback(\n",
    "dash.dependencies.Output('line-chart', 'figure'),\n",
    "[dash.dependencies.Input('genres-dropdown', 'value')]\n",
    ")\n",
    "def update_line_chart(selected_genres):\n",
    " if 'all_values' in selected_genres:\n",
    "  fig = px.line(df.groupby('emotion').size().reset_index(name='frequency').sort_values('frequency', ascending=False), x='emotion', y='frequency', title='Частота эмоций по всем жанрам')\n",
    " else:\n",
    "  filtered_df = df[df.genres==selected_genres]\n",
    "  fig = px.line(filtered_df.groupby('emotion').size().reset_index(name='frequency').sort_values('frequency', ascending=False), x='emotion', y='frequency', title='Частота эмоций по выбранным жанрам')\n",
    " return fig\n",
    "\n",
    "scatter_plot = dcc.Graph(id='scatter-plot')\n",
    "@app.callback(\n",
    "dash.dependencies.Output('scatter-plot', 'figure'),\n",
    "[dash.dependencies.Input('genres-dropdown', 'value'),\n",
    "dash.dependencies.Input('emotions-dropdown', 'value')]\n",
    ")\n",
    "def update_scatter_plot(selected_genres,selected_emotions):\n",
    " if 'all_values' in selected_genres:\n",
    "  fig = px.scatter(df, x='rating', y='rating_emotion', color='genres', title='Зависимость рейтинга и рейтинга эмоций по всем жанрам')\n",
    " if 'all_values' not in selected_genres:\n",
    "  filtered_df = df[df.genres==selected_genres]\n",
    "  fig = px.scatter(filtered_df, x='rating', y='rating_emotion', color='genres', title='Зависимость рейтинга и рейтинга эмоций по выбранным жанрам')\n",
    " return fig\n",
    "\n",
    "\n",
    "emotions_dropdown = dcc.Dropdown(id='emotions-dropdown', options=[{'label': i, 'value': i} for i in df['emotion'].unique()]+ [{'label': 'Все', 'value': 'all_values'}],value='all_values', multi=False)\n",
    "genres_dropdown = dcc.Dropdown(id='genres-dropdown', options=[{'label': i, 'value': i} for i in df['genres'].unique()]+ [{'label': 'Все', 'value': 'all_values'}],value='all_values', multi=False)\n",
    "\n",
    "app.layout = html.Div([\n",
    "html.Label('Выберите эмоции:'), emotions_dropdown,\n",
    "html.Label('Выберите жанр:'), genres_dropdown,\n",
    "html.Div(bar_chart, style={'width': '50%', 'display': 'inline-block'}),\n",
    "html.Div(pie_chart, style={'width': '50%', 'display': 'inline-block'}),\n",
    "html.Div(line_chart, style={'width': '50%', 'display': 'inline-block'}),\n",
    "html.Div(scatter_plot, style={'width': '50%', 'display': 'inline-block'})\n",
    "])\n",
    "\n",
    "if __name__ == '__main__':\n",
    " app.run_server(debug=True)"
   ]
  },
  {
   "cell_type": "code",
   "execution_count": null,
   "id": "808f0a26-6e3f-4911-8a54-9fc13c1b8ad8",
   "metadata": {},
   "outputs": [],
   "source": []
  }
 ],
 "metadata": {
  "kernelspec": {
   "display_name": "Python 3 (ipykernel)",
   "language": "python",
   "name": "python3"
  },
  "language_info": {
   "codemirror_mode": {
    "name": "ipython",
    "version": 3
   },
   "file_extension": ".py",
   "mimetype": "text/x-python",
   "name": "python",
   "nbconvert_exporter": "python",
   "pygments_lexer": "ipython3",
   "version": "3.9.5"
  }
 },
 "nbformat": 4,
 "nbformat_minor": 5
}
